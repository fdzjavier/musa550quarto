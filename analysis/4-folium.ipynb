{
 "cells": [
  {
   "cell_type": "markdown",
   "id": "b0b2a549-1b0b-405b-a536-36a45434eb9e",
   "metadata": {},
   "source": [
    "---\n",
    "format: \n",
    "  html:\n",
    "    toc: true\n",
    "execute:\n",
    "  echo: true\n",
    "---"
   ]
  },
  {
   "cell_type": "markdown",
   "id": "481530d3-4256-4271-b03a-97e86e37ea74",
   "metadata": {},
   "source": [
    "# Results from the Prediction\n",
    "The map produced below compares the model's predictions versus the actual observed change in ZHVI. Despite the model's limitations, this approach involved innovative techniques such as API utilization, ZHVI data aggregation from zip codes to census tracts, and comprehensive incorporation of crucial predictors at the census tract level. Moving forward, it's crucial to consideri refining the model by accessing more granular ZHVI data, ideally at the census tract or individual home-sale level. This project highlights the need for further investigation into Newark's changing real estate market and how it affects its residents, given the limited data available."
   ]
  },
  {
   "cell_type": "code",
   "execution_count": 6,
   "id": "aa1a7007-56ee-4af8-9a2c-af8ddede9fc7",
   "metadata": {
    "tags": []
   },
   "outputs": [],
   "source": [
    "import matplotlib.pyplot as plt\n",
    "\n",
    "fig, axs = plt.subplots(ncols=2, figsize=(10, 10))\n",
    "\n",
    "# Predicted values\n",
    "data.plot(\n",
    "    ax=axs[0],\n",
    "    column='prediction',\n",
    "    legend=True,\n",
    "    cmap='viridis',\n",
    "    linewidth=0.8,\n",
    "    edgecolor='0.8',\n",
    "    legend_kwds={'label': \"Predicted ZHVI\", 'orientation': \"horizontal\", 'shrink': 0.8}\n",
    ")\n",
    "axs[0].set_title(\"Predicted ZHVI\")\n",
    "\n",
    "# Actual values\n",
    "data.plot(\n",
    "    ax=axs[1],\n",
    "    column='ZHVI',\n",
    "    legend=True,\n",
    "    cmap='viridis',\n",
    "    linewidth=0.8,\n",
    "    edgecolor='0.8',\n",
    "    legend_kwds={'orientation': \"horizontal\", 'shrink': 0.5}  # Adjust the 'shrink' parameter\n",
    ")\n",
    "axs[1].set_title(\"ZHVI\")\n",
    "\n",
    "axs[0].set_axis_off()\n",
    "axs[1].set_axis_off()\n",
    "\n",
    "plt.show()"
   ]
  }
 ],
 "metadata": {
  "kernelspec": {
   "display_name": "Python 3 (ipykernel)",
   "language": "python",
   "name": "python3"
  },
  "language_info": {
   "codemirror_mode": {
    "name": "ipython",
    "version": 3
   },
   "file_extension": ".py",
   "mimetype": "text/x-python",
   "name": "python",
   "nbconvert_exporter": "python",
   "pygments_lexer": "ipython3",
   "version": "3.10.12"
  }
 },
 "nbformat": 4,
 "nbformat_minor": 5
}
